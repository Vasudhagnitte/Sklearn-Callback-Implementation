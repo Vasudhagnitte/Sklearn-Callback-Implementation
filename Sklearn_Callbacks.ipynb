{
  "nbformat": 4,
  "nbformat_minor": 0,
  "metadata": {
    "colab": {
      "provenance": []
    },
    "kernelspec": {
      "name": "python3",
      "display_name": "Python 3"
    },
    "language_info": {
      "name": "python"
    }
  },
  "cells": [
    {
      "cell_type": "code",
      "source": [
        "from sklearn.base import BaseEstimator\n",
        "# We define BaseEstimator Class to create the Custom class that defines the callbacks"
      ],
      "metadata": {
        "id": "3alul-iForQb"
      },
      "execution_count": 52,
      "outputs": []
    },
    {
      "cell_type": "code",
      "source": [
        "#Starting the training process\n",
        "def start_train():\n",
        "  print(\"Model Training has been Started\\n\");\n",
        "#Training is in progress\n",
        "def mid_train():\n",
        "  print(\"Training is in progress\\n\")\n",
        "#End of the train\n",
        "def end_train():\n",
        "  print(\"Model Training has ended\\n\")\n",
        "  \n"
      ],
      "metadata": {
        "id": "59QDN8eAv9tm"
      },
      "execution_count": 53,
      "outputs": []
    },
    {
      "cell_type": "code",
      "source": [
        "#Create a class called callback in order to override the function methods\n",
        "class callback(BaseEstimator):\n",
        "  def __init__(self,obj):\n",
        "    self.obj=obj \n",
        "\n",
        "  def fit(self,X,y,on_start=None,on_train=None,on_end=None):\n",
        "    #Fit method is used to train the machine learning model with the given datasets.The arguments X,y represents feature and target names respectively.\n",
        "    #Additional arguments on_start,on_end,on_train are used.\n",
        "    #on_start:- Used at the beginning of the training process, to perform some intial or setup \n",
        "    #on_end:-Used at the end of training phase, performs some necessary actions at the final step\n",
        "    #on_train:-It is called after every iteration of the training process,it helps to visualise,check the progress of training\n",
        "  \n",
        "    self.CallbackFunction()\n",
        "    if on_start: \n",
        "      for cb in on_start:\n",
        "        cb();\n",
        "      \n",
        "        #If the code is true, then it enters the loop, iterates through callback functions stored in on_start\n",
        "        \n",
        "\n",
        "    if on_train:\n",
        "      for cb in range(self.obj.n_neighbors):\n",
        "        for cb in on_train:\n",
        "          cb()\n",
        "        self.obj.fit(X,y)#Here the fit method is used to train the model using the input data(X) and any modifications made by the callback function\n",
        "\n",
        "    if on_end:\n",
        "      for cb in on_end:\n",
        "        cb();\n",
        "  def predict(self,X,on_predict=None):\n",
        "    if on_predict:\n",
        "      for cb in on_predict:\n",
        "        cb()\n",
        "    print(\"The Predicted Value is:\",self.obj.predict(X))#Returns the prediction based on the given input\n",
        "\n",
        "  def score(self,X,y):\n",
        "     print(\"The Accuracy score is:\",self.obj.score(X,y)*100)#Computes the accuracy score of the model based on the input X\n",
        "\n",
        "  def CallbackFunction(self):\n",
        "     print(\"Data training\")\n"
      ],
      "metadata": {
        "id": "2t1oBVVPPBAz"
      },
      "execution_count": 54,
      "outputs": []
    },
    {
      "cell_type": "code",
      "source": [
        "#Importing the diabetes dataset\n",
        "from sklearn.datasets import load_diabetes\n",
        "from sklearn.model_selection import train_test_split\n",
        "X_test,y_test,X_train,y_train=train_test_split(X, y, test_size=0.2, random_state=42)#Splitting the datasets"
      ],
      "metadata": {
        "id": "bGQ77xb6Db3f"
      },
      "execution_count": 55,
      "outputs": []
    },
    {
      "cell_type": "code",
      "source": [
        "db=load_diabetes()\n",
        "X=db.data    #Setting X as the input data and y as the traget value\n",
        "y=db.target"
      ],
      "metadata": {
        "id": "UqdghbVTDzNN"
      },
      "execution_count": 56,
      "outputs": []
    },
    {
      "cell_type": "code",
      "source": [
        "from sklearn.neighbors import KNeighborsClassifier#Prediction using KNeighbor algorithm\n",
        "knn=KNeighborsClassifier(n_neighbors=10)#Creating the instance of KNeighborsClassifier\n",
        "kk=callback(knn)#Creating the instance of callback class with classifier\n",
        "kk.fit(X,y,on_start=[start_train],on_train=[mid_train],on_end=[end_train])#Calling the fit method\n",
        "kk.predict(X_test)\n",
        "kk.score(X,y)\n",
        "\n"
      ],
      "metadata": {
        "colab": {
          "base_uri": "https://localhost:8080/"
        },
        "id": "zwLMh96lZn5u",
        "outputId": "ef5ce53b-e1a9-4de9-e3aa-119df119704e"
      },
      "execution_count": 57,
      "outputs": [
        {
          "output_type": "stream",
          "name": "stdout",
          "text": [
            "Data training\n",
            "Model Training has been Started\n",
            "\n",
            "Training is in progress\n",
            "\n",
            "Training is in progress\n",
            "\n",
            "Training is in progress\n",
            "\n",
            "Training is in progress\n",
            "\n",
            "Training is in progress\n",
            "\n",
            "Training is in progress\n",
            "\n",
            "Training is in progress\n",
            "\n",
            "Training is in progress\n",
            "\n",
            "Training is in progress\n",
            "\n",
            "Training is in progress\n",
            "\n",
            "Model Training has ended\n",
            "\n",
            "The Predicted Value is: [122.  51. 281.  65.  59.  63.  66. 310.  52.  51.  72. 178.  47. 275.\n",
            "  71.  97.  37.  47.  53.  67.  25.  51.  48.  66. 150. 111. 214.  25.\n",
            "  44.  37.  78.  25.  53.  44.  65.  44. 200.  91.  83.  77.  55.  63.\n",
            "  48. 111. 150. 109.  84. 195.  42.  31.  70.  71. 121. 100.  68. 268.\n",
            "  67.  50. 121.  84.  81. 111.  52.  52. 100.  44.  58.  25.  47.  63.\n",
            "  65.  44.  59.  47.  49.  59.  51.  48.  42.  72.  39.  42.  55.  53.\n",
            "  48. 281. 150. 104.  67. 281.  69.  59. 124. 235.  43.  66.  51.  53.\n",
            " 281. 150. 275.  85.  55. 111. 111. 138.  40. 150. 139. 122.  31.  87.\n",
            " 150.  67. 200.  72.  65. 275.  48. 275.  83.  48.  90.  25.  42.  84.\n",
            "  48. 275.  52.  52.  67.  42. 275.  25.  88. 310.  25. 259. 122. 173.\n",
            "  69.  91.  42. 281. 263. 275. 109.  63.  49. 121.  58. 107. 214.  39.\n",
            "  55.  64.  71. 150.  68. 150. 310.  94.  68.  71. 178. 168.  52.  25.\n",
            " 178. 113.  83. 178.  44. 275.  37.  49.  59.  50.  59.  59. 178.  81.\n",
            "  51.  68.  25.  59.  47.  25.  51.  66.  64.  39.  71. 248. 151.  51.\n",
            "  91.  25.  59.  71.  68.  66.  25.  53.  31.  39. 122.  37.  66. 214.\n",
            "  53.  83. 275. 214. 121.  59.  55.  50. 111.  67. 310.  37.  25. 275.\n",
            "  71.  67.  71.  91.  72.  31.  44.  59. 131.  58.  74. 174.  78.  49.\n",
            " 132.  55.  53.  84.  39.  63.  55.  65. 275.  39. 275.  51.  83.  42.\n",
            "  53. 275.  52.  25.  81. 281.  61. 138.  44. 275.  71.  67. 275.  49.\n",
            "  42. 275. 186.  44.  52.  67. 310.  39.  39. 139.  72.  67.  50.  84.\n",
            "  49.  88.  49.  90. 100. 101.  67. 265.  31.  43.  68.  91.  67.  59.\n",
            "  51.  55.  65.  42.  72.  42.  31. 120.  71.  52.  49.  60.  44.  42.\n",
            "  48.  44.  49.  58.  25.  53.  49.  51.  37. 109.  87.  47.  59.  77.\n",
            "  91.  39. 275.  31.  67.  53.  44.  55.  59.  48.  53.  65.  58. 131.\n",
            "  25. 122. 214.  42.  59.  91.  37.  66.  52.  42.  59. 104.  69.  44.\n",
            "  59.  31.  59.]\n",
            "The Accuracy score is: 10.180995475113122\n"
          ]
        }
      ]
    }
  ]
}